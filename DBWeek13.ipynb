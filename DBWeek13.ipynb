{
  "nbformat": 4,
  "nbformat_minor": 0,
  "metadata": {
    "colab": {
      "provenance": [],
      "authorship_tag": "ABX9TyNfIyB7a/pub993QDaaRewa",
      "include_colab_link": true
    },
    "kernelspec": {
      "name": "python3",
      "display_name": "Python 3"
    },
    "language_info": {
      "name": "python"
    }
  },
  "cells": [
    {
      "cell_type": "markdown",
      "metadata": {
        "id": "view-in-github",
        "colab_type": "text"
      },
      "source": [
        "<a href=\"https://colab.research.google.com/github/clem-mont-inha/DBWeek13/blob/main/DBWeek13.ipynb\" target=\"_parent\"><img src=\"https://colab.research.google.com/assets/colab-badge.svg\" alt=\"Open In Colab\"/></a>"
      ]
    },
    {
      "cell_type": "code",
      "source": [
        "import sqlite3\n",
        "\n",
        "# Connect to SQLite database\n",
        "\n",
        "conn = sqlite3.connect('example.db')\n",
        "c = conn.cursor()\n",
        "\n",
        "# Create a sample table\n",
        "c.execute('''CREATE TABLE IF NOT EXISTS employees (id INTEGER PRIMARY KEY, name TEXT, department TEXT, salary INTEGER)''')\n",
        "\n",
        "# Example 1: Efficient Indexing\n",
        "#\n",
        "# Description: This example demonstrates how to create an index on the 'department' column.\n",
        "# The index will improve the performance of queries filtering by department.\n",
        "\n",
        "# Adding some sample data\n",
        "sample_data = [(1, 'Alice', 'HR', 70000), (2, 'Bob', 'Engineering', 80000), (3, 'Charlie', 'HR', 75000)]\n",
        "c.executemany('INSERT INTO employees VALUES (?,?,?,?)', sample_data)\n",
        "\n",
        "# Creating an index\n",
        "c.execute( 'CREATE INDEX idx_department ON employees (department)')\n",
        "\n",
        "# Comment: Indexes can significantly improve the performance of queries that filter or sort based on the indexed column. # However, they can also slow down data insertion and updates. Therefore, use them judiciously.\n",
        "# Querying with and without the index\n",
        "c.execute('SELECT * FROM employees WHERE department = \"HR\"')\n",
        "print(\"Query plan with index:\", c.fetchall())\n",
        "# Drop the index\n",
        "c.execute('DROP INDEX idx_department')\n",
        "\n",
        "c.execute('SELECT * FROM employees WHERE department = \"HR\"')\n",
        "print(\"Query plan without index:\", c.fetchall())\n",
        "\n",
        "# Cleanup\n",
        "\n",
        "conn.commit()\n",
        "conn.close()"
      ],
      "metadata": {
        "colab": {
          "base_uri": "https://localhost:8080/"
        },
        "id": "2U5zItYiHcFe",
        "outputId": "31cdb712-7aaa-4504-f7c5-688da53777e4"
      },
      "execution_count": 19,
      "outputs": [
        {
          "output_type": "stream",
          "name": "stdout",
          "text": [
            "Query plan with index: [(1, 'Alice', 'HR', 70000), (3, 'Charlie', 'HR', 75000)]\n",
            "Query plan without index: [(1, 'Alice', 'HR', 70000), (3, 'Charlie', 'HR', 75000)]\n"
          ]
        }
      ]
    },
    {
      "cell_type": "code",
      "source": [
        "import sqlite3\n",
        "# Connect to SQLite database\n",
        "conn = sqlite3.connect('example.db')\n",
        "c = conn.cursor()\n",
        "# Create a sample table\n",
        "c. execute('''CREATE TABLE IF NOT EXISTS products (id INTEGER PRIMARY KEY, name TEXT, category TEXT, price INTEGER)''')\n",
        "# Adding some sample data\n",
        "sample_data = [(1, 'Laptop', 'Electronics', 1200), (2, 'Chair', 'Furniture', 150), (3, 'Smartphone', 'Electronics', 800)]\n",
        "c.executemany('INSERT INTO products VALUES (?,?,?,?)', sample_data)\n",
        "# Query optimization example\n",
        "# ---------------------------\n",
        "# Description: This example demonstrates how to write an optimized query by selecting only the necessary columns\n",
        "# and using efficient filtering.\n",
        "# Efficient query: selecting specific columns and filtering\n",
        "c.execute('SELECT name, price FROM products WHERE category = \"Electronics\"')\n",
        "print(\"Efficient query results:\", c.fetchall())\n",
        "#Cleanup\n",
        "conn.commit()\n",
        "conn.close()"
      ],
      "metadata": {
        "colab": {
          "base_uri": "https://localhost:8080/"
        },
        "id": "PhXN-pc_FRli",
        "outputId": "0cc7b93a-41a8-4605-c4d5-851916ec768a"
      },
      "execution_count": 20,
      "outputs": [
        {
          "output_type": "stream",
          "name": "stdout",
          "text": [
            "Efficient query results: [('Laptop', 1200), ('Smartphone', 800)]\n"
          ]
        }
      ]
    },
    {
      "cell_type": "code",
      "source": [
        "import sqlite3\n",
        "# Connect to SQLite database\n",
        "conn = sqlite3.connect('example.db')\n",
        "c = conn.cursor()\n",
        "# Create a sample table\n",
        "c.execute('''CREATE TABLE IF NOT EXISTS orders (id INTEGER PRIMARY KEY, product_id INTEGER, quantity INTEGER)''')\n",
        "# Transaction optimization example\n",
        "# ---------------------------------\n",
        "# Description: This example demonstrates the use of transactions to optimize bulk data insertions.\n",
        "# Start a transaction\n",
        "conn.execute('BEGIN TRANSACTION')\n",
        "# Bulk insert data\n",
        "bulk_data = [(i, i % 5 + 1, i * 2) for i in range(1, 1001)]\n",
        "c. executemany('INSERT INTO orders VALUES (?,?,?)', bulk_data)\n",
        "# Commit the transaction\n",
        "conn.commit()\n",
        "# Query to verify data insertion\n",
        "c.execute('SELECT COUNT(*) FROM orders')\n",
        "print(\"Number of records inserted:\", c.fetchone()[0])\n",
        "28 # Cleanup\n",
        "conn.close()"
      ],
      "metadata": {
        "colab": {
          "base_uri": "https://localhost:8080/"
        },
        "id": "pT6b_MB7Ib8a",
        "outputId": "d3c3647d-4f22-47cb-92a7-2ddadc7f2049"
      },
      "execution_count": 21,
      "outputs": [
        {
          "output_type": "stream",
          "name": "stdout",
          "text": [
            "Number of records inserted: 1000\n"
          ]
        }
      ]
    },
    {
      "cell_type": "code",
      "source": [
        "import sqlite3\n",
        "conn = sqlite3.connect('example.db')\n",
        "c = conn.cursor()\n",
        "c.execute('''CREATE TABLE IF NOT EXISTS students (id INTEGER PRIMARY KEY, name TEXT, class_id INTEGER)''')\n",
        "c.execute('''CREATE TABLE IF NOT EXISTS classes (id INTEGER PRIMARY KEY, class_name TEXT)''')\n",
        "students_data = [(1, 'John', 1), (2, 'Emma', 2), (3, 'Harry', 1)]\n",
        "classes_data = [(1, 'Math'), (2, 'Science')]\n",
        "c.executemany('INSERT INTO students VALUES (?,?,?)', students_data)\n",
        "c.executemany('INSERT INTO classes VALUES (?,?)', classes_data)\n",
        "c.execute('''SELECT students.name, classes.class_name FROM students JOIN classes ON students.class_id = classes.id''')\n",
        "print(\"Join results:\", c.fetchall())\n",
        "conn.commit()\n",
        "conn.close()"
      ],
      "metadata": {
        "colab": {
          "base_uri": "https://localhost:8080/"
        },
        "id": "FZcrQxkbJre1",
        "outputId": "0bd1832b-63e6-4453-b4f5-23cdcc6450a3"
      },
      "execution_count": 23,
      "outputs": [
        {
          "output_type": "stream",
          "name": "stdout",
          "text": [
            "Join results: [('John', 'Math'), ('Emma', 'Science'), ('Harry', 'Math')]\n"
          ]
        }
      ]
    },
    {
      "cell_type": "code",
      "source": [
        "import sqlite3\n",
        "# Connect to SOLite database\n",
        "conn = sqlite3.connect('example.db')\n",
        "c = conn.cursor()\n",
        "# Advanced PRAGMA Optimization Example\n",
        "#======\n",
        "# Description: This example demonstrates the advanced use of PRAGMA statements\n",
        "# for various database optimizations including write-aheed logging, foreign key enforcement,\n",
        "# and query performance improvement.\n",
        "# 1. Setting the journal mode to WAL (Write-Ahead Logging)\n",
        "# WAL can improve the performance of read operations while write operations are happening.\n",
        "c.execute('PRAGMA journal_mode=WAL')\n",
        "journal_mode = c.fetchone()[0]\n",
        "print (\"Journal mode set to:\", journal_mode)\n",
        "# 2. Enabling foreign key constraints\n",
        "# Ensures referential integrity in the database.\n",
        "c.execute('PRAGMA foreign_keys=ON')\n",
        "c.execute('PRAGMA foreign_keys')\n",
        "fk_status = c.fetchone()[0]\n",
        "print(\"Foreign keys status:\", \"Enabled\" if fk_status else \"Disebled\")\n",
        "# 3. Setting synchronous mode to NORMAL\n",
        "# This reduces the number of disk writes, speeding up transactions at the risk of some data loss in case of a crash.\n",
        "c.execute('PRAGMA synchronous = NORMAL')\n",
        "c.execute('PRAGMA synchronous')\n",
        "sync_mode = c.fetchone()[0]\n",
        "print(\"Synchronous mode set to:\", sync_mode)\n",
        "# 4. Adjusting cache size\n",
        "# Increasing the cache size can improve the database read performence by reducing disk 1/0.\n",
        "c.execute('PRAGMA cache_size=10000') # Setting cache size to 10000 pages\n",
        "c.execute('PRAGMA cache_size')\n",
        "cache_size = c.fetchone()[0]\n",
        "print(\"Cache size set to:\", cache_size, \"pages\")\n",
        "# 5. Querying the database file size\n",
        "# Useful for monitoring the database size, which can be a factor in performance.\n",
        "c.execute('PRAGMA page_size')\n",
        "page_size = c.fetchone()[0]\n",
        "c.execute('PRAGMA page_count')\n",
        "page_count = c.fetchone()[0]\n",
        "db_size = page_size + page_count\n",
        "print('Database size:', db_size, 'bytes')\n",
        "# Cleanup\n",
        "conn.close()"
      ],
      "metadata": {
        "colab": {
          "base_uri": "https://localhost:8080/"
        },
        "id": "G18ul9sULMcD",
        "outputId": "dbd47a6d-d120-40bf-a6c8-ae40e8f60732"
      },
      "execution_count": 26,
      "outputs": [
        {
          "output_type": "stream",
          "name": "stdout",
          "text": [
            "Journal mode set to: wal\n",
            "Foreign keys status: Enabled\n",
            "Synchronous mode set to: 1\n",
            "Cache size set to: 10000 pages\n",
            "Database size: 4105 bytes\n"
          ]
        }
      ]
    }
  ]
}